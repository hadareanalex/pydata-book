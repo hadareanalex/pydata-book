{
  "nbformat": 4,
  "nbformat_minor": 0,
  "metadata": {
    "colab": {
      "name": "Copy_of_MIB2021_lab05_06.ipynb",
      "provenance": [],
      "collapsed_sections": [],
      "toc_visible": true,
      "include_colab_link": true
    },
    "kernelspec": {
      "name": "python3",
      "display_name": "Python 3"
    }
  },
  "cells": [
    {
      "cell_type": "markdown",
      "metadata": {
        "id": "view-in-github",
        "colab_type": "text"
      },
      "source": [
        "<a href=\"https://colab.research.google.com/github/hadareanalex/pydata-book/blob/1st-edition/MIB2021_lab05_06_resolved.ipynb\" target=\"_parent\"><img src=\"https://colab.research.google.com/assets/colab-badge.svg\" alt=\"Open In Colab\"/></a>"
      ]
    },
    {
      "cell_type": "markdown",
      "metadata": {
        "id": "4R4jpwTmkri1"
      },
      "source": [
        "# Laborator 05-06\n",
        "\n",
        "În laboratorul trecut am observat cum rezultatul metodelor hill climbing depinde foarte mult de punctul de pornire și de parametrizare. Un alt algoritm stohastic, ce poate oferi o mai bună balanță între explorare și exploatare și o independență în cea ce privește punctul de start este inspirat din călirea metalurgică. Încălzirea urmată de răcirea controlată a unui material rezultă în creșterea dimensiunii cristalelor și reduce defectele structurale.\n",
        "\n",
        "\n",
        "![](https://image.slidesharecdn.com/f-annealing-131118222251-phpapp02/95/annealing-39-638.jpg?cb=1384813935)\n",
        "\n",
        "Fig. 1. Exemplificarea procesului de cristalizare prin călire. [Sursa imaginii](https://www.slideshare.net/RakeshSingh125/f-annealing). \n",
        "\n",
        "\n",
        "Inițial, prin creșterea temperaturii, [căldura dislocă atomii](https://www.sciencelearn.org.nz/resources/750-heat-energy) din poziţiile fixe (minim local) şi permite acestora să [viziteze aleatoriu stări cu energie mai ridicată](https://www.youtube.com/watch?v=qW59Y9lJso8). Apoi, o răcire graduală și lentă acordă timp și implicit mai multe şanse atomilor dislocați să găsească o configuraţie mai bună, cu o energie internă mai mică decât cea iniţială.\n",
        "\n",
        "\n",
        "## Călirea simulată\n",
        "\n",
        "Călirea simulată, denumit în engleză [Simulated Annealing](https://en.wikipedia.org/wiki/Simulated_annealing), este o metodă stocastică pentru aproximarea optimului global al unei funcții, ce permite la fiecare pas trecerea într-o stare inferioară (soluție mai slabă calitativ) cu o probabilitate direct proporțională cu \"temperatura\" (simulată) actuală (linia 13, pseudocod fig. 2). \n",
        "\n",
        "Metoda pornește cu o temperatură inițială ridicată și tinde în timp la 0, conform unui program de răcire (o funcție monoton descrescătoare, `calculate_tempereature(i)` - linia 7, pseudocod fig. 2).). Astfel la început, probabilitatea acceptării a unor stări inferioare este foarte mare, algoritmul poate ușor ieși din vecinătatea unui optim local. În această fază metoda probează spațiul de căutare în mod aleatoriu, traiectoria descrisă este haotică ([random walk](https://www.mit.edu/~kardar/teaching/projects/chemotaxis(AndreaSchmidt)/random.htm)), explorarea este maximă. Scăderea graduală a temperaturii induce o focusare din ce în ce mai pronunțată spre îmbunătățire, o trecere graduală de la explorare accentuată spre exploatare accentuată. În această fază comportamentul metodei se aseamănă cu [coborârea cu gradient stocastic](https://arxiv.org/abs/1609.04747) ([stochastic gradient descent](https://en.wikipedia.org/wiki/Stochastic_gradient_descent)). În final, la temperaturi scăzute, probabilitatea acceptării unei soluții inferioare devine minusculă (dar nu 0, imposibilă), metoda este axată pe exploatare.\n",
        "\n",
        "![](https://d3i71xaburhd42.cloudfront.net/9f01f2a70d64f2abbbf8d8a75d340a7f27586a25/8-Figure3-1.png)\n",
        "\n",
        "Fig. 2. Pseudocod pentru metoda călirii simulate. [Sursa imaginii](https://link.springer.com/article/10.1007/s00500-016-2067-4).\n",
        "\n",
        "Cu un program de răcire suficient de lung (teoretic infinit) și lent (cu suficiente iterații la fiecare nivel de temperatură), algoritmul garantează găsirea optimului global, din păcate într-un număr exponențial de pași în raport cu dimensiunea problemei\n",
        "\n",
        "Pentru obținerea unor rezultate bune, în practică trebuie bine echilibrată tranziția de la explorare spre exploatare. În cazul unei funcții obiectiv extrem de multimodal, folosirea unui program de răcire prea agresiv poate duce la o \"înghețare\" prematură, blocare într-un minim local. Utilizarea unui program de răcire mai lent scade probabilitatea convergenței premature într-un minim local, însă ea necesită cerințe de calcul crescute.\n"
      ]
    },
    {
      "cell_type": "markdown",
      "metadata": {
        "id": "zjEPjhyIClJz"
      },
      "source": [
        "# Exemplu optimizare\n",
        "\n",
        "Considerăm problema [comis-voiajorului](https://ro.wikipedia.org/wiki/Problema_comis-voiajorului) pentru cele mai mari 20 de orașe din SUA, folosind o [implementație a metodei în Python](https://github.com/perrygeo/simanneal)."
      ]
    },
    {
      "cell_type": "code",
      "metadata": {
        "colab": {
          "base_uri": "https://localhost:8080/"
        },
        "id": "n1sdsfjtEe_L",
        "outputId": "e19bafa8-654f-4a38-bf2d-cc866e3137f2"
      },
      "source": [
        "!pip install simanneal"
      ],
      "execution_count": 1,
      "outputs": [
        {
          "output_type": "stream",
          "text": [
            "Collecting simanneal\n",
            "  Downloading https://files.pythonhosted.org/packages/8b/cd/1b1f58a8e3fc041e352fb0ac2e4018f8f5be1f5fdde9996f157f0eb6d3cf/simanneal-0.5.0-py2.py3-none-any.whl\n",
            "Installing collected packages: simanneal\n",
            "Successfully installed simanneal-0.5.0\n"
          ],
          "name": "stdout"
        }
      ]
    },
    {
      "cell_type": "code",
      "metadata": {
        "id": "MluzjZRsEhKU"
      },
      "source": [
        "from simanneal import Annealer\n",
        "import math"
      ],
      "execution_count": 2,
      "outputs": []
    },
    {
      "cell_type": "code",
      "metadata": {
        "id": "Ey-L-OphFX7O"
      },
      "source": [
        "def geographicDistance(a, b):\n",
        "    \"\"\"Calculates distance between two latitude-longitude coordinates.\"\"\"\n",
        "    R = 6378.1  # equatorial radius of Earth https://imagine.gsfc.nasa.gov/features/cosmic/earth_info.html\n",
        "    lat1, lon1 = math.radians(a[0]), math.radians(a[1])\n",
        "    lat2, lon2 = math.radians(b[0]), math.radians(b[1])\n",
        "    return math.acos(math.sin(lat1) * math.sin(lat2) +\n",
        "                     math.cos(lat1) * math.cos(lat2) * math.cos(lon1 - lon2)) * R"
      ],
      "execution_count": 3,
      "outputs": []
    },
    {
      "cell_type": "code",
      "metadata": {
        "id": "6TTKgeXUEs4Z"
      },
      "source": [
        "class TravellingSalesmanProblem(Annealer):\n",
        "    \"\"\"Test annealer with a travelling salesman problem.\"\"\"\n",
        "    def __init__(self, state, distance_matrix):\n",
        "        self.distance_matrix = distance_matrix\n",
        "        super(TravellingSalesmanProblem, self).__init__(state)  \n",
        "\n",
        "    def move(self):\n",
        "        \"\"\"Swaps two cities in the route.\"\"\"\n",
        "        initial_energy = self.energy()\n",
        "\n",
        "        a = random.randint(0, len(self.state) - 1)\n",
        "        b = random.randint(0, len(self.state) - 1)\n",
        "        self.state[a], self.state[b] = self.state[b], self.state[a]\n",
        "\n",
        "        return self.energy() - initial_energy\n",
        "\n",
        "    def energy(self):\n",
        "        \"\"\"Calculates the length of the route.\"\"\"\n",
        "        e = 0\n",
        "        for i in range(len(self.state)):\n",
        "            e += self.distance_matrix[self.state[i-1]][self.state[i]]\n",
        "        return e"
      ],
      "execution_count": 4,
      "outputs": []
    },
    {
      "cell_type": "code",
      "metadata": {
        "id": "1xd-jefAIDGX"
      },
      "source": [
        "# latitude and longitude for the twenty largest U.S. cities\n",
        "# https://en.wikipedia.org/wiki/List_of_United_States_cities_by_population\n",
        "\n",
        "cities = {\n",
        "        'New York City': (40.72, 74.00),\n",
        "        'Los Angeles': (34.05, 118.25),\n",
        "        'Chicago': (41.88, 87.63),\n",
        "        'Houston': (29.77, 95.38),\n",
        "        'Phoenix': (33.45, 112.07),\n",
        "        'Philadelphia': (39.95, 75.17),\n",
        "        'San Antonio': (29.53, 98.47),\n",
        "        'Dallas': (32.78, 96.80),\n",
        "        'San Diego': (32.78, 117.15),\n",
        "        'San Jose': (37.30, 121.87),\n",
        "        'Detroit': (42.33, 83.05),\n",
        "        'San Francisco': (37.78, 122.42),\n",
        "        'Jacksonville': (30.32, 81.70),\n",
        "        'Indianapolis': (39.78, 86.15),\n",
        "        'Austin': (30.27, 97.77),\n",
        "        'Columbus': (39.98, 82.98),\n",
        "        'Fort Worth': (32.75, 97.33),\n",
        "        'Charlotte': (35.23, 80.85),\n",
        "        'Memphis': (35.12, 89.97),\n",
        "        'Baltimore': (39.28, 76.62)\n",
        "    }"
      ],
      "execution_count": 5,
      "outputs": []
    },
    {
      "cell_type": "code",
      "metadata": {
        "colab": {
          "base_uri": "https://localhost:8080/"
        },
        "id": "6ITFi5WiIdLZ",
        "outputId": "ab8b0d07-f651-423c-e700-8c3c54f543ed"
      },
      "source": [
        "import random\n",
        "# initial state, a randomly-ordered itinerary\n",
        "init_state = list(cities)\n",
        "random.shuffle(init_state)\n",
        "print(init_state)"
      ],
      "execution_count": 6,
      "outputs": [
        {
          "output_type": "stream",
          "text": [
            "['Columbus', 'Indianapolis', 'San Antonio', 'Dallas', 'Baltimore', 'Houston', 'Austin', 'San Francisco', 'San Diego', 'San Jose', 'Fort Worth', 'Phoenix', 'Memphis', 'Los Angeles', 'New York City', 'Jacksonville', 'Charlotte', 'Philadelphia', 'Detroit', 'Chicago']\n"
          ],
          "name": "stdout"
        }
      ]
    },
    {
      "cell_type": "code",
      "metadata": {
        "colab": {
          "base_uri": "https://localhost:8080/"
        },
        "id": "oTOhQPg4I1Y9",
        "outputId": "d6d0abc0-6208-4d16-e315-fd26beec943d"
      },
      "source": [
        "from collections import defaultdict\n",
        "# create an adjacency matrix - https://en.wikipedia.org/wiki/Adjacency_matrix\n",
        "distance_matrix = defaultdict(dict)\n",
        "for ka, va in cities.items():\n",
        "  for kb, vb in cities.items():\n",
        "    distance_matrix[ka][kb] = 0.0 if kb == ka else geographicDistance(va, vb)\n",
        "\n",
        "print('The distance from New York to Houston is {0} kms.'.format(distance_matrix['New York City']['Houston']))"
      ],
      "execution_count": 7,
      "outputs": [
        {
          "output_type": "stream",
          "text": [
            "The distance from New York to Houston is 2284.807991009479 kms.\n"
          ],
          "name": "stdout"
        }
      ]
    },
    {
      "cell_type": "markdown",
      "metadata": {
        "id": "2J0snbwfKM1k"
      },
      "source": [
        "Confirm with Google:\n",
        "\n",
        "https://www.google.com/search?client=safari&rls=en&q=distance+new+york+to+houston&ie=UTF-8&oe=UTF-8\n",
        "\n",
        "![](https://www.google.com/maps/vt/data=6dwNcCGg2G7qCjzYYqmJEvOdwo3PgE9W1cAWPqOISd3KCjFsBMSOiQAICYx0I_jjWmQris4hQePQoQyrx4AlvoeJ_guXdArgnA6Kpte8Na4_RaUTcT_tLLnd4FCx5ITouhQKjNDCLdh3qLx409QSRDMKlxA4eVsp4p7wl__yGnMO1ronpZAjHtKBnmAd,3-zgxN7akVijwp6XwwoZFPZqIq2xWsAQvVlfYY3ZjKSbZlcBxOF74y4qPLf3M0G5_JzyiXpogRqPH290MBSfK418Y3GbASjpkdz5cCQy7FiGqCuKVcZ_vTPr_-IHYnfv0wWQvsLGp0J3AYXrnST-yz_SxrfYVOzvd4mjgNBnwDibdQxoFT6iHnfaq7zLTyAig23Lt-ehVUkeWySw-dCNCv1RGCFnmUqpgoS0Y278AqbMlfpxTCdmQdsEKURB7RfZ8YTFTXslG9tcd6WV-N62Y8t4PJEalDmQUOgaLbrG_aK71_ZYUn_0hW8PYxtH4VFxt4ZMaxtZ_8J__w63usk9rXfT184R6ndQE6_CpwFArJF_uXI0WkZXIDZmKVBXZX5bO_y1GLM?scale=2&h=200&w=618)"
      ]
    },
    {
      "cell_type": "code",
      "metadata": {
        "colab": {
          "base_uri": "https://localhost:8080/"
        },
        "id": "o_UBokbELPPF",
        "outputId": "b7637318-0494-4f24-eadd-9496fed2d985"
      },
      "source": [
        "tsp = TravellingSalesmanProblem(init_state, distance_matrix)\n",
        "tsp.set_schedule(tsp.auto(minutes = 1))\n",
        "\n",
        "tsp.copy_strategy = 'slice'\n",
        "state, e = tsp.anneal()\n",
        "\n",
        "while state[0] != 'New York City':\n",
        "    state = state[1:] + state[:1]  # rotate NYC to start\n",
        "\n",
        "print()\n",
        "print(\"%i km route:\" % e)\n",
        "print(\" ➞  \".join(state))"
      ],
      "execution_count": 8,
      "outputs": [
        {
          "output_type": "stream",
          "text": [
            " Temperature        Energy    Accept   Improve     Elapsed   Remaining\n",
            " Temperature        Energy    Accept   Improve     Elapsed   Remaining\n"
          ],
          "name": "stderr"
        },
        {
          "output_type": "stream",
          "text": [
            "\n",
            "10946 km route:\n",
            "New York City ➞  Detroit ➞  Columbus ➞  Indianapolis ➞  Chicago ➞  San Francisco ➞  San Jose ➞  Los Angeles ➞  San Diego ➞  Phoenix ➞  San Antonio ➞  Austin ➞  Houston ➞  Fort Worth ➞  Dallas ➞  Memphis ➞  Jacksonville ➞  Charlotte ➞  Baltimore ➞  Philadelphia\n"
          ],
          "name": "stdout"
        }
      ]
    },
    {
      "cell_type": "markdown",
      "metadata": {
        "id": "TWLBFpvKbV8j"
      },
      "source": [
        "### Vizualizarea rutei obținute\n"
      ]
    },
    {
      "cell_type": "code",
      "metadata": {
        "colab": {
          "base_uri": "https://localhost:8080/"
        },
        "id": "uYI2xOA0NH4Z",
        "outputId": "5f54de23-d22a-4558-8a53-a3d362d4c794"
      },
      "source": [
        "!pip install geopandas"
      ],
      "execution_count": 9,
      "outputs": [
        {
          "output_type": "stream",
          "text": [
            "Collecting geopandas\n",
            "\u001b[?25l  Downloading https://files.pythonhosted.org/packages/d7/bf/e9cefb69d39155d122b6ddca53893b61535fa6ffdad70bf5ef708977f53f/geopandas-0.9.0-py2.py3-none-any.whl (994kB)\n",
            "\u001b[K     |████████████████████████████████| 1.0MB 4.2MB/s \n",
            "\u001b[?25hCollecting fiona>=1.8\n",
            "\u001b[?25l  Downloading https://files.pythonhosted.org/packages/47/c2/67d1d0acbaaee3b03e5e22e3b96c33219cb5dd392531c9ff9cee7c2eb3e4/Fiona-1.8.18-cp37-cp37m-manylinux1_x86_64.whl (14.8MB)\n",
            "\u001b[K     |████████████████████████████████| 14.8MB 270kB/s \n",
            "\u001b[?25hRequirement already satisfied: pandas>=0.24.0 in /usr/local/lib/python3.7/dist-packages (from geopandas) (1.1.5)\n",
            "Requirement already satisfied: shapely>=1.6 in /usr/local/lib/python3.7/dist-packages (from geopandas) (1.7.1)\n",
            "Collecting pyproj>=2.2.0\n",
            "\u001b[?25l  Downloading https://files.pythonhosted.org/packages/b1/72/d52e9ca81caef056062d71991b0e9b1d16af042245627c5d0e4916a36c4f/pyproj-3.0.1-cp37-cp37m-manylinux2010_x86_64.whl (6.5MB)\n",
            "\u001b[K     |████████████████████████████████| 6.5MB 22.5MB/s \n",
            "\u001b[?25hCollecting click-plugins>=1.0\n",
            "  Downloading https://files.pythonhosted.org/packages/e9/da/824b92d9942f4e472702488857914bdd50f73021efea15b4cad9aca8ecef/click_plugins-1.1.1-py2.py3-none-any.whl\n",
            "Requirement already satisfied: certifi in /usr/local/lib/python3.7/dist-packages (from fiona>=1.8->geopandas) (2020.12.5)\n",
            "Collecting cligj>=0.5\n",
            "  Downloading https://files.pythonhosted.org/packages/42/1e/947eadf10d6804bf276eb8a038bd5307996dceaaa41cfd21b7a15ec62f5d/cligj-0.7.1-py3-none-any.whl\n",
            "Requirement already satisfied: click<8,>=4.0 in /usr/local/lib/python3.7/dist-packages (from fiona>=1.8->geopandas) (7.1.2)\n",
            "Requirement already satisfied: six>=1.7 in /usr/local/lib/python3.7/dist-packages (from fiona>=1.8->geopandas) (1.15.0)\n",
            "Collecting munch\n",
            "  Downloading https://files.pythonhosted.org/packages/cc/ab/85d8da5c9a45e072301beb37ad7f833cd344e04c817d97e0cc75681d248f/munch-2.5.0-py2.py3-none-any.whl\n",
            "Requirement already satisfied: attrs>=17 in /usr/local/lib/python3.7/dist-packages (from fiona>=1.8->geopandas) (20.3.0)\n",
            "Requirement already satisfied: python-dateutil>=2.7.3 in /usr/local/lib/python3.7/dist-packages (from pandas>=0.24.0->geopandas) (2.8.1)\n",
            "Requirement already satisfied: numpy>=1.15.4 in /usr/local/lib/python3.7/dist-packages (from pandas>=0.24.0->geopandas) (1.19.5)\n",
            "Requirement already satisfied: pytz>=2017.2 in /usr/local/lib/python3.7/dist-packages (from pandas>=0.24.0->geopandas) (2018.9)\n",
            "Installing collected packages: click-plugins, cligj, munch, fiona, pyproj, geopandas\n",
            "Successfully installed click-plugins-1.1.1 cligj-0.7.1 fiona-1.8.18 geopandas-0.9.0 munch-2.5.0 pyproj-3.0.1\n"
          ],
          "name": "stdout"
        }
      ]
    },
    {
      "cell_type": "code",
      "metadata": {
        "id": "dHSHej5r1WFP",
        "colab": {
          "base_uri": "https://localhost:8080/"
        },
        "outputId": "cc367bf2-c5d7-4130-d1c6-2ceb947960f0"
      },
      "source": [
        "!pip install geoplot"
      ],
      "execution_count": 10,
      "outputs": [
        {
          "output_type": "stream",
          "text": [
            "Collecting geoplot\n",
            "  Downloading https://files.pythonhosted.org/packages/e1/8f/46133752e1f02e70501939e739b81cbc85c79d7398c963b8a25a3178bffe/geoplot-0.4.1-py3-none-any.whl\n",
            "Requirement already satisfied: seaborn in /usr/local/lib/python3.7/dist-packages (from geoplot) (0.11.1)\n",
            "Requirement already satisfied: matplotlib in /usr/local/lib/python3.7/dist-packages (from geoplot) (3.2.2)\n",
            "Collecting mapclassify>=2.1\n",
            "  Downloading https://files.pythonhosted.org/packages/22/8e/d968c0945d41bb02de0efaa92e31e43a817dc52d30e82b4dfdda407a1903/mapclassify-2.4.2-py3-none-any.whl\n",
            "Collecting contextily>=1.0.0\n",
            "  Downloading https://files.pythonhosted.org/packages/d3/8a/f7916ad000c30b86793a0c7a63946baa413f40f33edb5b10f78a1b150d24/contextily-1.1.0-py3-none-any.whl\n",
            "Requirement already satisfied: geopandas in /usr/local/lib/python3.7/dist-packages (from geoplot) (0.9.0)\n",
            "Collecting cartopy\n",
            "\u001b[?25l  Downloading https://files.pythonhosted.org/packages/46/c1/04e50c9986842f00f7db0e7a65caa896840050d7328f74e5b7437aa01179/Cartopy-0.18.0.tar.gz (14.4MB)\n",
            "\u001b[K     |████████████████████████████████| 14.4MB 327kB/s \n",
            "\u001b[?25hRequirement already satisfied: descartes in /usr/local/lib/python3.7/dist-packages (from geoplot) (1.1.0)\n",
            "Requirement already satisfied: pandas in /usr/local/lib/python3.7/dist-packages (from geoplot) (1.1.5)\n",
            "Requirement already satisfied: scipy>=1.0 in /usr/local/lib/python3.7/dist-packages (from seaborn->geoplot) (1.4.1)\n",
            "Requirement already satisfied: numpy>=1.15 in /usr/local/lib/python3.7/dist-packages (from seaborn->geoplot) (1.19.5)\n",
            "Requirement already satisfied: pyparsing!=2.0.4,!=2.1.2,!=2.1.6,>=2.0.1 in /usr/local/lib/python3.7/dist-packages (from matplotlib->geoplot) (2.4.7)\n",
            "Requirement already satisfied: cycler>=0.10 in /usr/local/lib/python3.7/dist-packages (from matplotlib->geoplot) (0.10.0)\n",
            "Requirement already satisfied: python-dateutil>=2.1 in /usr/local/lib/python3.7/dist-packages (from matplotlib->geoplot) (2.8.1)\n",
            "Requirement already satisfied: kiwisolver>=1.0.1 in /usr/local/lib/python3.7/dist-packages (from matplotlib->geoplot) (1.3.1)\n",
            "Requirement already satisfied: networkx in /usr/local/lib/python3.7/dist-packages (from mapclassify>=2.1->geoplot) (2.5)\n",
            "Requirement already satisfied: scikit-learn in /usr/local/lib/python3.7/dist-packages (from mapclassify>=2.1->geoplot) (0.22.2.post1)\n",
            "Collecting mercantile\n",
            "  Downloading https://files.pythonhosted.org/packages/b9/cd/ee6dbee0abca93edda53703fe408d2a6abdc8c1b248a3c9a4539089eafa2/mercantile-1.1.6-py3-none-any.whl\n",
            "Requirement already satisfied: pillow in /usr/local/lib/python3.7/dist-packages (from contextily>=1.0.0->geoplot) (7.0.0)\n",
            "Requirement already satisfied: requests in /usr/local/lib/python3.7/dist-packages (from contextily>=1.0.0->geoplot) (2.23.0)\n",
            "Requirement already satisfied: joblib in /usr/local/lib/python3.7/dist-packages (from contextily>=1.0.0->geoplot) (1.0.1)\n",
            "Collecting rasterio\n",
            "\u001b[?25l  Downloading https://files.pythonhosted.org/packages/04/37/40712857e6c82cac52051d9faee43bc468e5806640ddbf88e10d591dbdf1/rasterio-1.2.1-cp37-cp37m-manylinux1_x86_64.whl (19.1MB)\n",
            "\u001b[K     |████████████████████████████████| 19.1MB 236kB/s \n",
            "\u001b[?25hRequirement already satisfied: geopy in /usr/local/lib/python3.7/dist-packages (from contextily>=1.0.0->geoplot) (1.17.0)\n",
            "Requirement already satisfied: pyproj>=2.2.0 in /usr/local/lib/python3.7/dist-packages (from geopandas->geoplot) (3.0.1)\n",
            "Requirement already satisfied: shapely>=1.6 in /usr/local/lib/python3.7/dist-packages (from geopandas->geoplot) (1.7.1)\n",
            "Requirement already satisfied: fiona>=1.8 in /usr/local/lib/python3.7/dist-packages (from geopandas->geoplot) (1.8.18)\n",
            "Collecting pyshp>=1.1.4\n",
            "\u001b[?25l  Downloading https://files.pythonhosted.org/packages/38/85/fbf87e7aa55103e0d06af756bdbc15cf821fa580414c23142d60a35d4f85/pyshp-2.1.3.tar.gz (219kB)\n",
            "\u001b[K     |████████████████████████████████| 225kB 55.0MB/s \n",
            "\u001b[?25hRequirement already satisfied: six>=1.3.0 in /usr/local/lib/python3.7/dist-packages (from cartopy->geoplot) (1.15.0)\n",
            "Requirement already satisfied: setuptools>=0.7.2 in /usr/local/lib/python3.7/dist-packages (from cartopy->geoplot) (54.0.0)\n",
            "Requirement already satisfied: pytz>=2017.2 in /usr/local/lib/python3.7/dist-packages (from pandas->geoplot) (2018.9)\n",
            "Requirement already satisfied: decorator>=4.3.0 in /usr/local/lib/python3.7/dist-packages (from networkx->mapclassify>=2.1->geoplot) (4.4.2)\n",
            "Requirement already satisfied: click>=3.0 in /usr/local/lib/python3.7/dist-packages (from mercantile->contextily>=1.0.0->geoplot) (7.1.2)\n",
            "Requirement already satisfied: urllib3!=1.25.0,!=1.25.1,<1.26,>=1.21.1 in /usr/local/lib/python3.7/dist-packages (from requests->contextily>=1.0.0->geoplot) (1.24.3)\n",
            "Requirement already satisfied: idna<3,>=2.5 in /usr/local/lib/python3.7/dist-packages (from requests->contextily>=1.0.0->geoplot) (2.10)\n",
            "Requirement already satisfied: certifi>=2017.4.17 in /usr/local/lib/python3.7/dist-packages (from requests->contextily>=1.0.0->geoplot) (2020.12.5)\n",
            "Requirement already satisfied: chardet<4,>=3.0.2 in /usr/local/lib/python3.7/dist-packages (from requests->contextily>=1.0.0->geoplot) (3.0.4)\n",
            "Collecting snuggs>=1.4.1\n",
            "  Downloading https://files.pythonhosted.org/packages/cc/0e/d27d6e806d6c0d1a2cfdc5d1f088e42339a0a54a09c3343f7f81ec8947ea/snuggs-1.4.7-py3-none-any.whl\n",
            "Requirement already satisfied: attrs in /usr/local/lib/python3.7/dist-packages (from rasterio->contextily>=1.0.0->geoplot) (20.3.0)\n",
            "Requirement already satisfied: click-plugins in /usr/local/lib/python3.7/dist-packages (from rasterio->contextily>=1.0.0->geoplot) (1.1.1)\n",
            "Requirement already satisfied: cligj>=0.5 in /usr/local/lib/python3.7/dist-packages (from rasterio->contextily>=1.0.0->geoplot) (0.7.1)\n",
            "Collecting affine\n",
            "  Downloading https://files.pythonhosted.org/packages/ac/a6/1a39a1ede71210e3ddaf623982b06ecfc5c5c03741ae659073159184cd3e/affine-2.3.0-py2.py3-none-any.whl\n",
            "Requirement already satisfied: geographiclib<2,>=1.49 in /usr/local/lib/python3.7/dist-packages (from geopy->contextily>=1.0.0->geoplot) (1.50)\n",
            "Requirement already satisfied: munch in /usr/local/lib/python3.7/dist-packages (from fiona>=1.8->geopandas->geoplot) (2.5.0)\n",
            "Building wheels for collected packages: cartopy, pyshp\n",
            "  Building wheel for cartopy (setup.py) ... \u001b[?25l\u001b[?25hdone\n",
            "  Created wheel for cartopy: filename=Cartopy-0.18.0-cp37-cp37m-linux_x86_64.whl size=15127660 sha256=2b91a2d877dd1c59c4345c8a6aee652d8994dd7e60d73376a6c2fdc1f875b6cc\n",
            "  Stored in directory: /root/.cache/pip/wheels/8d/f8/da/2c05136f2162370d2baec85bfbbf91d7729ab9e248da878acd\n",
            "  Building wheel for pyshp (setup.py) ... \u001b[?25l\u001b[?25hdone\n",
            "  Created wheel for pyshp: filename=pyshp-2.1.3-cp37-none-any.whl size=37264 sha256=1b368f8e11d8d66e4542a025a608824f5b2153a8c3dffddeaba7f36fae8f19fa\n",
            "  Stored in directory: /root/.cache/pip/wheels/76/2b/d4/53e6b9a0fb0a9f9f29664cf82605af8bc81d5ab44d987896dd\n",
            "Successfully built cartopy pyshp\n",
            "Installing collected packages: mapclassify, mercantile, snuggs, affine, rasterio, contextily, pyshp, cartopy, geoplot\n",
            "Successfully installed affine-2.3.0 cartopy-0.18.0 contextily-1.1.0 geoplot-0.4.1 mapclassify-2.4.2 mercantile-1.1.6 pyshp-2.1.3 rasterio-1.2.1 snuggs-1.4.7\n"
          ],
          "name": "stdout"
        }
      ]
    },
    {
      "cell_type": "code",
      "metadata": {
        "id": "jm_0Y_MyM7XW"
      },
      "source": [
        "import numpy as np\n",
        "import pandas as pd\n",
        "import matplotlib.pyplot as plt\n",
        "import descartes\n",
        "import geopandas as gpd\n",
        "import geoplot as gplt\n",
        "import geoplot.crs as gcrs\n",
        "from shapely.geometry import Point, Polygon"
      ],
      "execution_count": 11,
      "outputs": []
    },
    {
      "cell_type": "code",
      "metadata": {
        "colab": {
          "base_uri": "https://localhost:8080/",
          "height": 195
        },
        "id": "87bIouW7POmU",
        "outputId": "099de0a7-e5bc-42d2-caee-af879e119b87"
      },
      "source": [
        "df = pd.DataFrame(\n",
        "    {'City': cities.keys(),\n",
        "     'Latitude': [x[0] for x in cities.values()],\n",
        "     'Longitude': [x[1] for x in cities.values()]})\n",
        "\n",
        "df.head()"
      ],
      "execution_count": 12,
      "outputs": [
        {
          "output_type": "execute_result",
          "data": {
            "text/html": [
              "<div>\n",
              "<style scoped>\n",
              "    .dataframe tbody tr th:only-of-type {\n",
              "        vertical-align: middle;\n",
              "    }\n",
              "\n",
              "    .dataframe tbody tr th {\n",
              "        vertical-align: top;\n",
              "    }\n",
              "\n",
              "    .dataframe thead th {\n",
              "        text-align: right;\n",
              "    }\n",
              "</style>\n",
              "<table border=\"1\" class=\"dataframe\">\n",
              "  <thead>\n",
              "    <tr style=\"text-align: right;\">\n",
              "      <th></th>\n",
              "      <th>City</th>\n",
              "      <th>Latitude</th>\n",
              "      <th>Longitude</th>\n",
              "    </tr>\n",
              "  </thead>\n",
              "  <tbody>\n",
              "    <tr>\n",
              "      <th>0</th>\n",
              "      <td>New York City</td>\n",
              "      <td>40.72</td>\n",
              "      <td>74.00</td>\n",
              "    </tr>\n",
              "    <tr>\n",
              "      <th>1</th>\n",
              "      <td>Los Angeles</td>\n",
              "      <td>34.05</td>\n",
              "      <td>118.25</td>\n",
              "    </tr>\n",
              "    <tr>\n",
              "      <th>2</th>\n",
              "      <td>Chicago</td>\n",
              "      <td>41.88</td>\n",
              "      <td>87.63</td>\n",
              "    </tr>\n",
              "    <tr>\n",
              "      <th>3</th>\n",
              "      <td>Houston</td>\n",
              "      <td>29.77</td>\n",
              "      <td>95.38</td>\n",
              "    </tr>\n",
              "    <tr>\n",
              "      <th>4</th>\n",
              "      <td>Phoenix</td>\n",
              "      <td>33.45</td>\n",
              "      <td>112.07</td>\n",
              "    </tr>\n",
              "  </tbody>\n",
              "</table>\n",
              "</div>"
            ],
            "text/plain": [
              "            City  Latitude  Longitude\n",
              "0  New York City     40.72      74.00\n",
              "1    Los Angeles     34.05     118.25\n",
              "2        Chicago     41.88      87.63\n",
              "3        Houston     29.77      95.38\n",
              "4        Phoenix     33.45     112.07"
            ]
          },
          "metadata": {
            "tags": []
          },
          "execution_count": 12
        }
      ]
    },
    {
      "cell_type": "code",
      "metadata": {
        "id": "Uk-QQxKHO0_S"
      },
      "source": [
        "gdf = gpd.GeoDataFrame(\n",
        "    df, geometry=gpd.points_from_xy(-df.Longitude, df.Latitude), crs = 4326)"
      ],
      "execution_count": 13,
      "outputs": []
    },
    {
      "cell_type": "code",
      "metadata": {
        "colab": {
          "base_uri": "https://localhost:8080/",
          "height": 462
        },
        "id": "4vaYU78oQG83",
        "outputId": "13dedff3-0824-4038-fcd7-d6cb74e9928f"
      },
      "source": [
        "world = gpd.read_file(gpd.datasets.get_path('naturalearth_lowres'))\n",
        "\n",
        "ax = world[world.name == 'United States of America'].plot(\n",
        "    color='white', edgecolor='black', figsize=(12, 10))\n",
        "\n",
        "gdf.plot(ax=ax,color='red')\n",
        "\n",
        "for i in range(0, len(state)-1):\n",
        "  plt.plot( [-df[df.City==state[i]].Longitude, -df[df.City==state[i+1]].Longitude], [df[df.City==state[i]].Latitude, df[df.City==state[i+1]].Latitude])\n",
        "\n",
        "plt.show()"
      ],
      "execution_count": 14,
      "outputs": [
        {
          "output_type": "display_data",
          "data": {
            "image/png": "[encoded data removed]",
            "text/plain": [
              "<Figure size 864x720 with 1 Axes>"
            ]
          },
          "metadata": {
            "tags": [],
            "needs_background": "light"
          }
        }
      ]
    },
    {
      "cell_type": "markdown",
      "metadata": {
        "id": "VFNwr9oV87u3"
      },
      "source": [
        "# Exerciții\n",
        "\n",
        "1. Conform articolului [\"On the Convergence Time of Simulated Annealing\"](https://core.ac.uk/download/pdf/76359167.pdf) ce se poate afirma despre convergența metodei?\n",
        "2. Care [programe de răcire](https://www.researchgate.net/publication/282449315_A_Comparative_Study_of_Simulated_Annealing_with_different_Cooling_Schedules_for_Geometric_Optimization_of_a_Heat_Transfer_Problem_According_to_Constructal_Design) (cooling schedule) sunt cel mai des folosite? La ce tipuri de probleme se pretează programele de răcire mai lente?\n",
        "3. Conform [acestei](https://page.mi.fu-berlin.de/prechelt/Biblio/kangaroo_analogy.html) analogii amuzante, cum este descrisă dinamica călirii simulate? \n",
        "4. Cu ajutorul [`scipy.optimize.anneal`](https://docs.scipy.org/doc/scipy-0.14.0/reference/generated/scipy.optimize.anneal.html) găsiți optimele funcțiilor studiate laboratorul precedent (conform exemplului din documentație - schimbați definiția funcției `f`). Cum se compară performanța cu strategiile de îmbunătățire iterativă, în cazul funcțiilor multimodale?\n",
        "5. Rezolvați problema comis voiajorului pentru [municipiile de rang 0 din România](https://ro.wikipedia.org/wiki/Municipiile_României).\n",
        "6. *Implementați (soluție proprie) metoda călirii simulate, exemplificați funcționalitatea pe o problemă aleasă.* **(opțional, punct în plus)**."
      ]
    },
    {
      "cell_type": "markdown",
      "metadata": {
        "id": "H-3nOb_L3veG"
      },
      "source": [
        "# ex1\r\n",
        " - Au arătat asta\r\n",
        "acest algoritm converge în limită la o soluție optimă la nivel global cu probabilitatea 1.\r\n",
        "\r\n",
        "# ex2\r\n",
        " - Rezultatele au arătat că programul de răcire hibrid este cele mai recomandat pentru a găsi configurațiile geometrice optime în căldură si\r\n",
        "probleme de transfer în asociere cu Constructal Design (BoltzExp, ConstExp1 și ConstExp2).\r\n",
        "\r\n",
        "# ex3\r\n",
        " - \r\n",
        "În recușire simulată, cangurul este beat și saltează în mod aleatoriu\r\n",
        "pentru o lungă perioadă de timp. Cu toate acestea, el se trezește treptat și tinde să sară sus deal.\r\n",
        " "
      ]
    },
    {
      "cell_type": "code",
      "metadata": {
        "id": "RiJucMJg27C-"
      },
      "source": [
        "import numpy as np\r\n",
        "import pandas as pd\r\n",
        "import matplotlib.pyplot as plt\r\n",
        "import descartes\r\n",
        "import geopandas as gpd\r\n",
        "import geoplot as gplt\r\n",
        "import geoplot.crs as gcrs\r\n",
        "from shapely.geometry import Point, Polygon\r\n",
        "from scipy.optimize import basinhopping"
      ],
      "execution_count": 15,
      "outputs": []
    },
    {
      "cell_type": "markdown",
      "metadata": {
        "id": "yeGvTewG6taz"
      },
      "source": [
        "#ex4"
      ]
    },
    {
      "cell_type": "code",
      "metadata": {
        "id": "Z9RMv99zuD6_"
      },
      "source": [
        "def generateRandomSolution(xmin=-2, xmax=2, ymin=-2, ymax=2):\r\n",
        "  x = random.uniform(xmin, xmax)\r\n",
        "  y = random.uniform(ymin, ymax)\r\n",
        "\r\n",
        "  return x, y\r\n",
        "\r\n",
        "def objFuncUnimodal(point):\r\n",
        "    return np.exp(-(point[0]*point[0]+point[1]*point[1]))\r\n",
        "\r\n",
        "def objFuncMultimodal(point):\r\n",
        "    return np.exp(-(point[0]*point[0]+point[1]*point[1])) + 2*np.exp(-( (point[0]-1.7)**2 + (point[1]-1.7)**2))"
      ],
      "execution_count": 16,
      "outputs": []
    },
    {
      "cell_type": "code",
      "metadata": {
        "id": "DngoVySf7AOQ",
        "colab": {
          "base_uri": "https://localhost:8080/"
        },
        "outputId": "ade45cae-ac9f-46a7-d7f1-e81d548b96ca"
      },
      "source": [
        "minimizer_kwargs = {\"method\": \"BFGS\"}\r\n",
        "\r\n",
        "x,y = generateRandomSolution()\r\n",
        "\r\n",
        "point = [x, y]\r\n",
        "\r\n",
        "ret = basinhopping(objFuncUnimodal, point, minimizer_kwargs=minimizer_kwargs, niter=200)\r\n",
        "print(\"global minimum: x = [%.4f, %.4f], f(x0) = %.4f\" % (ret.x[0], ret.x[1], ret.fun))\r\n",
        "\r\n",
        "ret = basinhopping(objFuncMultimodal, point, minimizer_kwargs=minimizer_kwargs, niter=200)\r\n",
        "print(\"global minimum: x = [%.4f, %.4f], f(x0) = %.4f\" % (ret.x[0], ret.x[1], ret.fun))"
      ],
      "execution_count": 17,
      "outputs": [
        {
          "output_type": "stream",
          "text": [
            "global minimum: x = [7.5124, -6.4723], f(x0) = 0.0000\n",
            "global minimum: x = [3.1364, -12.1200], f(x0) = 0.0000\n"
          ],
          "name": "stdout"
        }
      ]
    },
    {
      "cell_type": "markdown",
      "metadata": {
        "id": "m7Znnyv06zVz"
      },
      "source": [
        "#ex5"
      ]
    },
    {
      "cell_type": "code",
      "metadata": {
        "id": "FqXUKoDzpaiL"
      },
      "source": [
        "#Burucresti 44°26′7″N 26°6′10″E\r\n",
        "#Bacau 46°35′0″N 26°55′0″E\r\n",
        "#brasov 45°39′N 25°36′E\r\n",
        "#braila 45°16′9″N 27°57′27″E\r\n",
        "#galati 45°26′22″N 28°2′4″E\r\n",
        "#cluj 46°46′0″N 23°35′0″E\r\n",
        "#constanta 44°10′24″N 28°38′18″E\r\n",
        "#craiova 44°20′N 23°49′E\r\n",
        "#iasi 47°9′44″N 27°35′20″E\r\n",
        "#oradea 47°04′20″N 21°55′16″E\r\n",
        "#ploiesti 44°56′24″N 26°1′48″E\r\n",
        "#timisoara 45°47′58″N 21°17′38″E\r\n",
        "\r\n",
        "cities = {\r\n",
        "        'Bucuresti': (44.26, 26.6),\r\n",
        "        'Bacau': (46.35, 26.55),\r\n",
        "        'Brasov': (45.39, 25.36),\r\n",
        "        'Braila': (45.16, 27.57),\r\n",
        "        'Galati': (45.26, 28.2),\r\n",
        "        'Cluj-Napoca': (46.46, 23.35),\r\n",
        "        'Constanta': (44.1, 28.38),\r\n",
        "        'Craiova': (44.2, 23.49),\r\n",
        "        'Iasi': (47.9, 27.35),\r\n",
        "        'Oradea': (47.04, 21.55),\r\n",
        "        'Ploiesti': (44.56, 26.1),\r\n",
        "        'Timisoara': (45.47, 21.17),\r\n",
        "    }"
      ],
      "execution_count": 18,
      "outputs": []
    },
    {
      "cell_type": "code",
      "metadata": {
        "id": "_Zi8Q39XpauL",
        "colab": {
          "base_uri": "https://localhost:8080/"
        },
        "outputId": "028bbb50-4c5c-4302-bcc5-604603af2f7a"
      },
      "source": [
        "init_state = list(cities)\r\n",
        "random.shuffle(init_state)\r\n",
        "print(init_state)"
      ],
      "execution_count": 19,
      "outputs": [
        {
          "output_type": "stream",
          "text": [
            "['Braila', 'Bucuresti', 'Cluj-Napoca', 'Ploiesti', 'Craiova', 'Timisoara', 'Constanta', 'Iasi', 'Galati', 'Brasov', 'Oradea', 'Bacau']\n"
          ],
          "name": "stdout"
        }
      ]
    },
    {
      "cell_type": "code",
      "metadata": {
        "id": "qNOtjFylpa4W",
        "colab": {
          "base_uri": "https://localhost:8080/"
        },
        "outputId": "0316840a-0a07-42df-d1b9-e165b1118a58"
      },
      "source": [
        "from collections import defaultdict\r\n",
        "# create an adjacency matrix - https://en.wikipedia.org/wiki/Adjacency_matrix\r\n",
        "distance_matrix = defaultdict(dict)\r\n",
        "for ka, va in cities.items():\r\n",
        "  for kb, vb in cities.items():\r\n",
        "    distance_matrix[ka][kb] = 0.0 if kb == ka else geographicDistance(va, vb)\r\n",
        "\r\n",
        "print('The distance from Timisoara to Iasi is {0} kms.'.format(distance_matrix['Timisoara']['Iasi']))"
      ],
      "execution_count": 20,
      "outputs": [
        {
          "output_type": "stream",
          "text": [
            "The distance from Timisoara to Iasi is 543.7277891100426 kms.\n"
          ],
          "name": "stdout"
        }
      ]
    },
    {
      "cell_type": "code",
      "metadata": {
        "id": "lL9r-zBppbCA",
        "colab": {
          "base_uri": "https://localhost:8080/"
        },
        "outputId": "e884cba3-7a7d-45ea-e1a4-de97eea0376d"
      },
      "source": [
        "tsp = TravellingSalesmanProblem(init_state, distance_matrix)\r\n",
        "tsp.set_schedule(tsp.auto(minutes = 1))\r\n",
        "\r\n",
        "tsp.copy_strategy = 'slice'\r\n",
        "state, e = tsp.anneal()\r\n",
        "\r\n",
        "while state[0] != 'Timisoara':\r\n",
        "    state = state[1:] + state[:1]  # rotate Timisoara to start\r\n",
        "\r\n",
        "print()\r\n",
        "print(\"%i km route:\" % e)\r\n",
        "print(\" ➞  \".join(state))"
      ],
      "execution_count": 21,
      "outputs": [
        {
          "output_type": "stream",
          "text": [
            " Temperature        Energy    Accept   Improve     Elapsed   Remaining\n",
            " Temperature        Energy    Accept   Improve     Elapsed   Remaining\n"
          ],
          "name": "stderr"
        },
        {
          "output_type": "stream",
          "text": [
            "\n",
            "1923 km route:\n",
            "Timisoara ➞  Craiova ➞  Brasov ➞  Ploiesti ➞  Bucuresti ➞  Constanta ➞  Galati ➞  Braila ➞  Bacau ➞  Iasi ➞  Cluj-Napoca ➞  Oradea\n"
          ],
          "name": "stdout"
        }
      ]
    },
    {
      "cell_type": "code",
      "metadata": {
        "id": "XXb1Dfwa1Ckz",
        "colab": {
          "base_uri": "https://localhost:8080/",
          "height": 195
        },
        "outputId": "e2fb1303-1608-40c8-e001-aec63d4e5402"
      },
      "source": [
        "df = pd.DataFrame(\r\n",
        "    {'City': cities.keys(),\r\n",
        "     'Latitude': [x[0] for x in cities.values()],\r\n",
        "     'Longitude': [x[1] for x in cities.values()]})\r\n",
        "\r\n",
        "df.head()"
      ],
      "execution_count": 22,
      "outputs": [
        {
          "output_type": "execute_result",
          "data": {
            "text/html": [
              "<div>\n",
              "<style scoped>\n",
              "    .dataframe tbody tr th:only-of-type {\n",
              "        vertical-align: middle;\n",
              "    }\n",
              "\n",
              "    .dataframe tbody tr th {\n",
              "        vertical-align: top;\n",
              "    }\n",
              "\n",
              "    .dataframe thead th {\n",
              "        text-align: right;\n",
              "    }\n",
              "</style>\n",
              "<table border=\"1\" class=\"dataframe\">\n",
              "  <thead>\n",
              "    <tr style=\"text-align: right;\">\n",
              "      <th></th>\n",
              "      <th>City</th>\n",
              "      <th>Latitude</th>\n",
              "      <th>Longitude</th>\n",
              "    </tr>\n",
              "  </thead>\n",
              "  <tbody>\n",
              "    <tr>\n",
              "      <th>0</th>\n",
              "      <td>Bucuresti</td>\n",
              "      <td>44.26</td>\n",
              "      <td>26.60</td>\n",
              "    </tr>\n",
              "    <tr>\n",
              "      <th>1</th>\n",
              "      <td>Bacau</td>\n",
              "      <td>46.35</td>\n",
              "      <td>26.55</td>\n",
              "    </tr>\n",
              "    <tr>\n",
              "      <th>2</th>\n",
              "      <td>Brasov</td>\n",
              "      <td>45.39</td>\n",
              "      <td>25.36</td>\n",
              "    </tr>\n",
              "    <tr>\n",
              "      <th>3</th>\n",
              "      <td>Braila</td>\n",
              "      <td>45.16</td>\n",
              "      <td>27.57</td>\n",
              "    </tr>\n",
              "    <tr>\n",
              "      <th>4</th>\n",
              "      <td>Galati</td>\n",
              "      <td>45.26</td>\n",
              "      <td>28.20</td>\n",
              "    </tr>\n",
              "  </tbody>\n",
              "</table>\n",
              "</div>"
            ],
            "text/plain": [
              "        City  Latitude  Longitude\n",
              "0  Bucuresti     44.26      26.60\n",
              "1      Bacau     46.35      26.55\n",
              "2     Brasov     45.39      25.36\n",
              "3     Braila     45.16      27.57\n",
              "4     Galati     45.26      28.20"
            ]
          },
          "metadata": {
            "tags": []
          },
          "execution_count": 22
        }
      ]
    },
    {
      "cell_type": "code",
      "metadata": {
        "id": "Vu0oVOVJ1HCm"
      },
      "source": [
        "gdf = gpd.GeoDataFrame(\r\n",
        "    df, geometry=gpd.points_from_xy(df.Longitude, df.Latitude), crs = 4326)"
      ],
      "execution_count": 23,
      "outputs": []
    },
    {
      "cell_type": "code",
      "metadata": {
        "id": "eNoxuUW21KJ-",
        "colab": {
          "base_uri": "https://localhost:8080/",
          "height": 512
        },
        "outputId": "8dabc6f4-14d1-455f-ba67-5e7d159a5d9b"
      },
      "source": [
        "world = gpd.read_file(gpd.datasets.get_path('naturalearth_lowres'))\r\n",
        "\r\n",
        "ax = world[world.name == 'Romania'].plot(\r\n",
        "    color='white', edgecolor='black', figsize=(12, 10))\r\n",
        "\r\n",
        "gdf.plot(ax=ax,color='red')\r\n",
        "\r\n",
        "for i in range(0, len(state)-1):\r\n",
        "  plt.plot( [df[df.City==state[i]].Longitude, df[df.City==state[i+1]].Longitude], [df[df.City==state[i]].Latitude, df[df.City==state[i+1]].Latitude])\r\n",
        "\r\n",
        "plt.show()"
      ],
      "execution_count": 24,
      "outputs": [
        {
          "output_type": "display_data",
          "data": {
            "image/png": "[encoded data removed]",
            "text/plain": [
              "<Figure size 864x720 with 1 Axes>"
            ]
          },
          "metadata": {
            "tags": [],
            "needs_background": "light"
          }
        }
      ]
    }
  ]
}